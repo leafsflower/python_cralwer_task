{
 "cells": [
  {
   "cell_type": "code",
   "execution_count": 1,
   "metadata": {
    "collapsed": true,
    "pycharm": {
     "name": "#%%\n"
    }
   },
   "outputs": [],
   "source": [
    "## 数据清洗与挖掘"
   ]
  },
  {
   "cell_type": "code",
   "execution_count": 4,
   "outputs": [],
   "source": [
    "import pandas as pd\n"
   ],
   "metadata": {
    "collapsed": false,
    "pycharm": {
     "name": "#%%\n"
    }
   }
  },
  {
   "cell_type": "code",
   "execution_count": 5,
   "outputs": [],
   "source": [
    "comments_data = pd.read_csv('comment_data/demo.csv')\n"
   ],
   "metadata": {
    "collapsed": false,
    "pycharm": {
     "name": "#%%\n"
    }
   }
  },
  {
   "cell_type": "code",
   "execution_count": 6,
   "outputs": [
    {
     "data": {
      "text/plain": "        房型         入住时间  入住类型   评分  \\\n0  豪华城景双床房  于2022年10月入住  家庭亲子  5.0   \n1  豪华海景大床房   于2022年9月入住  商务出差  5.0   \n2  豪华城景双床房   于2022年9月入住  朋友出游  5.0   \n3  精品城景大床房   于2022年7月入住  商务出差  5.0   \n4  豪华城景大床房   于2022年8月入住  家庭亲子  5.0   \n\n                                                  评论              评论时间  \n0  来青岛最值得打卡的酒店之一，前台小姐姐态度很好，很有耐心，酒店楼层高，观景效果更好，距离海边...  2022年10月7日 发布于山东  \n1  真的很喜欢很喜欢这个海景房！早上太阳好的时候一拉开窗就能看到大海，可见度也很高，还能看到摩托...  2022年9月10日 发布于重庆  \n2  第一次住酒店公寓，体验感很好。酒店公寓设施齐全，在附近盒马买了海鲜可以回酒店蒸煮着吃，非常方...   2022年9月7日 发布于浙江  \n3  非常舒服，虽然只一天，因为出差，但是全程让我感受到了青岛的美。40层入住，非常的安静，而且房...      2022年7月12日发布  \n4  公寓房间宽敞明亮，喜欢坐在榻榻米上看外面的景色，还有洗衣机可以洗衣服，太适合带孩子出行的了！...   2022年8月6日 发布于山东  ",
      "text/html": "<div>\n<style scoped>\n    .dataframe tbody tr th:only-of-type {\n        vertical-align: middle;\n    }\n\n    .dataframe tbody tr th {\n        vertical-align: top;\n    }\n\n    .dataframe thead th {\n        text-align: right;\n    }\n</style>\n<table border=\"1\" class=\"dataframe\">\n  <thead>\n    <tr style=\"text-align: right;\">\n      <th></th>\n      <th>房型</th>\n      <th>入住时间</th>\n      <th>入住类型</th>\n      <th>评分</th>\n      <th>评论</th>\n      <th>评论时间</th>\n    </tr>\n  </thead>\n  <tbody>\n    <tr>\n      <th>0</th>\n      <td>豪华城景双床房</td>\n      <td>于2022年10月入住</td>\n      <td>家庭亲子</td>\n      <td>5.0</td>\n      <td>来青岛最值得打卡的酒店之一，前台小姐姐态度很好，很有耐心，酒店楼层高，观景效果更好，距离海边...</td>\n      <td>2022年10月7日 发布于山东</td>\n    </tr>\n    <tr>\n      <th>1</th>\n      <td>豪华海景大床房</td>\n      <td>于2022年9月入住</td>\n      <td>商务出差</td>\n      <td>5.0</td>\n      <td>真的很喜欢很喜欢这个海景房！早上太阳好的时候一拉开窗就能看到大海，可见度也很高，还能看到摩托...</td>\n      <td>2022年9月10日 发布于重庆</td>\n    </tr>\n    <tr>\n      <th>2</th>\n      <td>豪华城景双床房</td>\n      <td>于2022年9月入住</td>\n      <td>朋友出游</td>\n      <td>5.0</td>\n      <td>第一次住酒店公寓，体验感很好。酒店公寓设施齐全，在附近盒马买了海鲜可以回酒店蒸煮着吃，非常方...</td>\n      <td>2022年9月7日 发布于浙江</td>\n    </tr>\n    <tr>\n      <th>3</th>\n      <td>精品城景大床房</td>\n      <td>于2022年7月入住</td>\n      <td>商务出差</td>\n      <td>5.0</td>\n      <td>非常舒服，虽然只一天，因为出差，但是全程让我感受到了青岛的美。40层入住，非常的安静，而且房...</td>\n      <td>2022年7月12日发布</td>\n    </tr>\n    <tr>\n      <th>4</th>\n      <td>豪华城景大床房</td>\n      <td>于2022年8月入住</td>\n      <td>家庭亲子</td>\n      <td>5.0</td>\n      <td>公寓房间宽敞明亮，喜欢坐在榻榻米上看外面的景色，还有洗衣机可以洗衣服，太适合带孩子出行的了！...</td>\n      <td>2022年8月6日 发布于山东</td>\n    </tr>\n  </tbody>\n</table>\n</div>"
     },
     "execution_count": 6,
     "metadata": {},
     "output_type": "execute_result"
    }
   ],
   "source": [
    "comments_data.head()"
   ],
   "metadata": {
    "collapsed": false,
    "pycharm": {
     "name": "#%%\n"
    }
   }
  },
  {
   "cell_type": "code",
   "execution_count": 7,
   "outputs": [
    {
     "data": {
      "text/plain": "                评分\ncount  1330.000000\nmean      4.539398\nstd       0.960160\nmin       1.000000\n25%       4.500000\n50%       5.000000\n75%       5.000000\nmax       5.000000",
      "text/html": "<div>\n<style scoped>\n    .dataframe tbody tr th:only-of-type {\n        vertical-align: middle;\n    }\n\n    .dataframe tbody tr th {\n        vertical-align: top;\n    }\n\n    .dataframe thead th {\n        text-align: right;\n    }\n</style>\n<table border=\"1\" class=\"dataframe\">\n  <thead>\n    <tr style=\"text-align: right;\">\n      <th></th>\n      <th>评分</th>\n    </tr>\n  </thead>\n  <tbody>\n    <tr>\n      <th>count</th>\n      <td>1330.000000</td>\n    </tr>\n    <tr>\n      <th>mean</th>\n      <td>4.539398</td>\n    </tr>\n    <tr>\n      <th>std</th>\n      <td>0.960160</td>\n    </tr>\n    <tr>\n      <th>min</th>\n      <td>1.000000</td>\n    </tr>\n    <tr>\n      <th>25%</th>\n      <td>4.500000</td>\n    </tr>\n    <tr>\n      <th>50%</th>\n      <td>5.000000</td>\n    </tr>\n    <tr>\n      <th>75%</th>\n      <td>5.000000</td>\n    </tr>\n    <tr>\n      <th>max</th>\n      <td>5.000000</td>\n    </tr>\n  </tbody>\n</table>\n</div>"
     },
     "execution_count": 7,
     "metadata": {},
     "output_type": "execute_result"
    }
   ],
   "source": [
    "comments_data.describe()"
   ],
   "metadata": {
    "collapsed": false,
    "pycharm": {
     "name": "#%%\n"
    }
   }
  },
  {
   "cell_type": "code",
   "execution_count": null,
   "outputs": [],
   "source": [],
   "metadata": {
    "collapsed": false,
    "pycharm": {
     "name": "#%%\n"
    }
   }
  }
 ],
 "metadata": {
  "kernelspec": {
   "display_name": "Python 3",
   "language": "python",
   "name": "python3"
  },
  "language_info": {
   "codemirror_mode": {
    "name": "ipython",
    "version": 2
   },
   "file_extension": ".py",
   "mimetype": "text/x-python",
   "name": "python",
   "nbconvert_exporter": "python",
   "pygments_lexer": "ipython2",
   "version": "2.7.6"
  }
 },
 "nbformat": 4,
 "nbformat_minor": 0
}